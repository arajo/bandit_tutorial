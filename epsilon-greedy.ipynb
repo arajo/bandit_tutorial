{
 "cells": [
  {
   "cell_type": "markdown",
   "id": "d6fdc7e3-a0e9-4e5e-ae64-cda52378110b",
   "metadata": {},
   "source": [
    "# The Multi-armed bandit"
   ]
  },
  {
   "cell_type": "markdown",
   "id": "e6e9ef6f-60a6-4bdf-9bb2-9cb8d42adbb2",
   "metadata": {},
   "source": [
    "- 참고: https://jamesrledoux.com/algorithms/bandit-algorithms-epsilon-ucb-exp-python/"
   ]
  },
  {
   "cell_type": "markdown",
   "id": "9c061528-a60d-4b7c-acf4-b485c609ccd8",
   "metadata": {},
   "source": [
    "A multi-armed bandit algorithm is designed to learn an optimal balance for allocating resources between a fixed number of choices in a situation such as this one, maximizing cumulative rewards over time by learning an efficient explore vs explit policy."
   ]
  },
  {
   "cell_type": "code",
   "execution_count": 3,
   "id": "65090e87-d375-46ee-8b66-3ce18021ee7d",
   "metadata": {
    "execution": {
     "iopub.execute_input": "2023-07-30T12:05:05.304088Z",
     "iopub.status.busy": "2023-07-30T12:05:05.303416Z",
     "iopub.status.idle": "2023-07-30T12:05:05.487343Z",
     "shell.execute_reply": "2023-07-30T12:05:05.486828Z",
     "shell.execute_reply.started": "2023-07-30T12:05:05.304056Z"
    },
    "tags": []
   },
   "outputs": [],
   "source": [
    "import numpy as np\n",
    "import pandas as pd"
   ]
  },
  {
   "cell_type": "code",
   "execution_count": 102,
   "id": "38453ea4-d1e6-4a3b-95b4-64343932230a",
   "metadata": {
    "execution": {
     "iopub.execute_input": "2023-07-30T12:52:05.601551Z",
     "iopub.status.busy": "2023-07-30T12:52:05.600531Z",
     "iopub.status.idle": "2023-07-30T12:52:05.611679Z",
     "shell.execute_reply": "2023-07-30T12:52:05.610789Z",
     "shell.execute_reply.started": "2023-07-30T12:52:05.601493Z"
    },
    "tags": []
   },
   "outputs": [],
   "source": [
    "def score(history, df, t, batch_size, recs):\n",
    "    # replay score. reward if rec matches logged data, ignore otherwise\n",
    "    actions = df[t:t+batch_size]\n",
    "    actions = actions[actions['movieId'].isin(recs)]\n",
    "    actions['scoring_round'] = t\n",
    "    # add row to history if recs match logging policy\n",
    "    history = pd.concat([history, actions], axis=0)\n",
    "    action_liked = actions[['movieId', 'liked']]\n",
    "    return history, action_liked"
   ]
  },
  {
   "cell_type": "markdown",
   "id": "43689359-636c-473f-b6ef-cffb64af603b",
   "metadata": {},
   "source": [
    "# Load Dataset"
   ]
  },
  {
   "cell_type": "code",
   "execution_count": 85,
   "id": "72dd5bb4-75bf-4f19-b69f-9bd5cc55fd68",
   "metadata": {
    "execution": {
     "iopub.execute_input": "2023-07-30T12:38:51.144807Z",
     "iopub.status.busy": "2023-07-30T12:38:51.143759Z",
     "iopub.status.idle": "2023-07-30T12:38:51.161119Z",
     "shell.execute_reply": "2023-07-30T12:38:51.159970Z",
     "shell.execute_reply.started": "2023-07-30T12:38:51.144746Z"
    },
    "tags": []
   },
   "outputs": [],
   "source": [
    "def preprocess_movie_data_20m(logs, min_number_of_reviews=20, balanced_classes=False):\n",
    "    print('preparing ratings log')\n",
    "    # remove ratings of movies with < N ratings. too few ratings will cause the recsys to get stuck in offline evaluation\n",
    "    count_df = pd.DataFrame(logs.movieId.value_counts())\n",
    "    print(f\"{count_df.max()=} {count_df.min()=}\")\n",
    "    movies_to_keep = count_df.loc[count_df['count']>=min_number_of_reviews].index\n",
    "    logs = logs[logs['movieId'].isin(movies_to_keep)]\n",
    "\n",
    "    if balanced_classes is True:\n",
    "        logs = logs.groupby('movieId')\n",
    "        logs = logs.apply(lambda x: x.sample(logs.size().min()).reset_index(drop=True))\n",
    "    # shuffle rows to deibas order of user ids\n",
    "    logs = logs.sample(frac=1)\n",
    "    # create a 't' column to represent time steps for the bandit to simulate a live learning scenario\n",
    "    logs['t'] = np.arange(len(logs))\n",
    "    logs.index = logs['t']\n",
    "    logs['liked'] = logs['rating'].apply(lambda x: 1 if x >= 4.5 else 0)\n",
    "    return logs"
   ]
  },
  {
   "cell_type": "code",
   "execution_count": 4,
   "id": "775bf7c4-ef98-435a-97ad-41910575a8a2",
   "metadata": {
    "execution": {
     "iopub.execute_input": "2023-07-30T12:06:12.086075Z",
     "iopub.status.busy": "2023-07-30T12:06:12.084908Z",
     "iopub.status.idle": "2023-07-30T12:06:12.126387Z",
     "shell.execute_reply": "2023-07-30T12:06:12.125897Z",
     "shell.execute_reply.started": "2023-07-30T12:06:12.086010Z"
    },
    "tags": []
   },
   "outputs": [],
   "source": [
    "ratings = pd.read_csv(\"../../data/ml-latest-small/ratings.csv\")"
   ]
  },
  {
   "cell_type": "code",
   "execution_count": 7,
   "id": "cb40fcf5-2176-4986-8273-af3ba555cf70",
   "metadata": {
    "execution": {
     "iopub.execute_input": "2023-07-30T12:08:29.396197Z",
     "iopub.status.busy": "2023-07-30T12:08:29.395185Z",
     "iopub.status.idle": "2023-07-30T12:08:29.437068Z",
     "shell.execute_reply": "2023-07-30T12:08:29.436659Z",
     "shell.execute_reply.started": "2023-07-30T12:08:29.396136Z"
    },
    "tags": []
   },
   "outputs": [],
   "source": [
    "ratings['liked'] = ratings.rating.map(lambda x: 1 if x>=4.5 else 0)"
   ]
  },
  {
   "cell_type": "code",
   "execution_count": 8,
   "id": "56028611-7587-4915-b4e1-b6660a165cab",
   "metadata": {
    "execution": {
     "iopub.execute_input": "2023-07-30T12:08:32.341480Z",
     "iopub.status.busy": "2023-07-30T12:08:32.340554Z",
     "iopub.status.idle": "2023-07-30T12:08:32.358333Z",
     "shell.execute_reply": "2023-07-30T12:08:32.357920Z",
     "shell.execute_reply.started": "2023-07-30T12:08:32.341443Z"
    },
    "tags": []
   },
   "outputs": [
    {
     "data": {
      "text/html": [
       "<div>\n",
       "<style scoped>\n",
       "    .dataframe tbody tr th:only-of-type {\n",
       "        vertical-align: middle;\n",
       "    }\n",
       "\n",
       "    .dataframe tbody tr th {\n",
       "        vertical-align: top;\n",
       "    }\n",
       "\n",
       "    .dataframe thead th {\n",
       "        text-align: right;\n",
       "    }\n",
       "</style>\n",
       "<table border=\"1\" class=\"dataframe\">\n",
       "  <thead>\n",
       "    <tr style=\"text-align: right;\">\n",
       "      <th></th>\n",
       "      <th>userId</th>\n",
       "      <th>movieId</th>\n",
       "      <th>rating</th>\n",
       "      <th>timestamp</th>\n",
       "      <th>liked</th>\n",
       "    </tr>\n",
       "  </thead>\n",
       "  <tbody>\n",
       "    <tr>\n",
       "      <th>0</th>\n",
       "      <td>1</td>\n",
       "      <td>1</td>\n",
       "      <td>4.0</td>\n",
       "      <td>964982703</td>\n",
       "      <td>0</td>\n",
       "    </tr>\n",
       "    <tr>\n",
       "      <th>1</th>\n",
       "      <td>1</td>\n",
       "      <td>3</td>\n",
       "      <td>4.0</td>\n",
       "      <td>964981247</td>\n",
       "      <td>0</td>\n",
       "    </tr>\n",
       "    <tr>\n",
       "      <th>2</th>\n",
       "      <td>1</td>\n",
       "      <td>6</td>\n",
       "      <td>4.0</td>\n",
       "      <td>964982224</td>\n",
       "      <td>0</td>\n",
       "    </tr>\n",
       "    <tr>\n",
       "      <th>3</th>\n",
       "      <td>1</td>\n",
       "      <td>47</td>\n",
       "      <td>5.0</td>\n",
       "      <td>964983815</td>\n",
       "      <td>1</td>\n",
       "    </tr>\n",
       "    <tr>\n",
       "      <th>4</th>\n",
       "      <td>1</td>\n",
       "      <td>50</td>\n",
       "      <td>5.0</td>\n",
       "      <td>964982931</td>\n",
       "      <td>1</td>\n",
       "    </tr>\n",
       "    <tr>\n",
       "      <th>...</th>\n",
       "      <td>...</td>\n",
       "      <td>...</td>\n",
       "      <td>...</td>\n",
       "      <td>...</td>\n",
       "      <td>...</td>\n",
       "    </tr>\n",
       "    <tr>\n",
       "      <th>100831</th>\n",
       "      <td>610</td>\n",
       "      <td>166534</td>\n",
       "      <td>4.0</td>\n",
       "      <td>1493848402</td>\n",
       "      <td>0</td>\n",
       "    </tr>\n",
       "    <tr>\n",
       "      <th>100832</th>\n",
       "      <td>610</td>\n",
       "      <td>168248</td>\n",
       "      <td>5.0</td>\n",
       "      <td>1493850091</td>\n",
       "      <td>1</td>\n",
       "    </tr>\n",
       "    <tr>\n",
       "      <th>100833</th>\n",
       "      <td>610</td>\n",
       "      <td>168250</td>\n",
       "      <td>5.0</td>\n",
       "      <td>1494273047</td>\n",
       "      <td>1</td>\n",
       "    </tr>\n",
       "    <tr>\n",
       "      <th>100834</th>\n",
       "      <td>610</td>\n",
       "      <td>168252</td>\n",
       "      <td>5.0</td>\n",
       "      <td>1493846352</td>\n",
       "      <td>1</td>\n",
       "    </tr>\n",
       "    <tr>\n",
       "      <th>100835</th>\n",
       "      <td>610</td>\n",
       "      <td>170875</td>\n",
       "      <td>3.0</td>\n",
       "      <td>1493846415</td>\n",
       "      <td>0</td>\n",
       "    </tr>\n",
       "  </tbody>\n",
       "</table>\n",
       "<p>100836 rows × 5 columns</p>\n",
       "</div>"
      ],
      "text/plain": [
       "        userId  movieId  rating   timestamp  liked\n",
       "0            1        1     4.0   964982703      0\n",
       "1            1        3     4.0   964981247      0\n",
       "2            1        6     4.0   964982224      0\n",
       "3            1       47     5.0   964983815      1\n",
       "4            1       50     5.0   964982931      1\n",
       "...        ...      ...     ...         ...    ...\n",
       "100831     610   166534     4.0  1493848402      0\n",
       "100832     610   168248     5.0  1493850091      1\n",
       "100833     610   168250     5.0  1494273047      1\n",
       "100834     610   168252     5.0  1493846352      1\n",
       "100835     610   170875     3.0  1493846415      0\n",
       "\n",
       "[100836 rows x 5 columns]"
      ]
     },
     "execution_count": 8,
     "metadata": {},
     "output_type": "execute_result"
    }
   ],
   "source": [
    "ratings"
   ]
  },
  {
   "cell_type": "code",
   "execution_count": 88,
   "id": "b138247d-3c21-41b4-94aa-6af63938ec8f",
   "metadata": {
    "execution": {
     "iopub.execute_input": "2023-07-30T12:41:57.378386Z",
     "iopub.status.busy": "2023-07-30T12:41:57.377408Z",
     "iopub.status.idle": "2023-07-30T12:41:57.415253Z",
     "shell.execute_reply": "2023-07-30T12:41:57.414812Z",
     "shell.execute_reply.started": "2023-07-30T12:41:57.378328Z"
    },
    "tags": []
   },
   "outputs": [
    {
     "name": "stdout",
     "output_type": "stream",
     "text": [
      "preparing ratings log\n",
      "count_df.max()=count    329\n",
      "dtype: int64 count_df.min()=count    1\n",
      "dtype: int64\n"
     ]
    }
   ],
   "source": [
    "df = preprocess_movie_data_20m(ratings)"
   ]
  },
  {
   "cell_type": "code",
   "execution_count": 106,
   "id": "99611c41-f3a9-4ecb-8de6-d7a2b0f9b7f8",
   "metadata": {
    "execution": {
     "iopub.execute_input": "2023-07-30T12:52:38.234586Z",
     "iopub.status.busy": "2023-07-30T12:52:38.233760Z",
     "iopub.status.idle": "2023-07-30T12:52:38.245034Z",
     "shell.execute_reply": "2023-07-30T12:52:38.244133Z",
     "shell.execute_reply.started": "2023-07-30T12:52:38.234540Z"
    },
    "tags": []
   },
   "outputs": [],
   "source": [
    "def epsilon_greedy_policy(df, arms, epsilon=0.15, slate_size=5, batch_size=50):\n",
    "    '''\n",
    "    Applies Epsilon Greedy policy to generate movie recommendations.\n",
    "    Args:\n",
    "        df: dataframe. Dataset to apply the policy to\n",
    "        arms: list or array. ID of every eligible arm.\n",
    "        epsilon: float. represents the % of timesteps where we explore random arms\n",
    "        slate_size: int. the number of recommendations to make at each step.\n",
    "        batch_size: int. the number of users to serve these recommendations to before updating the bandit's policy.\n",
    "    '''\n",
    "    # draw a 0 or 1 from a binominal distribution, with epsilon% likelihood of drawing a 1\n",
    "    explore = np.random.binomial(1, epsilon)\n",
    "    \n",
    "    # if explore: shuffle movies to choose a random set of recommendations\n",
    "    if explore == 1 or df.shape[0]==0:\n",
    "        recs = np.random.choice(arms, size=(slate_size), replace=False)\n",
    "    # if exploit: sort moveis by \"like rate\", recommend movies with the best performance so far\n",
    "    else:\n",
    "        scores = df[['movieId', 'liked']].groupby('movieId').agg({'liked': ['mean', 'count']})\n",
    "        scores.columns = ['mean', 'count']\n",
    "        scores['movieId'] = scores.index\n",
    "        scores = scores.sort_values('mean', ascending=False)\n",
    "        recs = scores.loc[scores.index[0:slate_size], 'movieId'].values\n",
    "    return recs"
   ]
  },
  {
   "cell_type": "code",
   "execution_count": 98,
   "id": "6431784f-9963-415f-ab1a-b03c413cb23d",
   "metadata": {
    "execution": {
     "iopub.execute_input": "2023-07-30T12:50:25.261498Z",
     "iopub.status.busy": "2023-07-30T12:50:25.260521Z",
     "iopub.status.idle": "2023-07-30T12:50:25.268706Z",
     "shell.execute_reply": "2023-07-30T12:50:25.267783Z",
     "shell.execute_reply.started": "2023-07-30T12:50:25.261440Z"
    },
    "tags": []
   },
   "outputs": [],
   "source": [
    "# Setting Args\n",
    "batch_size = 50 \n",
    "verbose = True\n",
    "epsilon = 0.15\n",
    "slate_size = 5\n",
    "batch_size = 50"
   ]
  },
  {
   "cell_type": "code",
   "execution_count": 90,
   "id": "37f23ed6-11cc-408b-beae-102070a7aecb",
   "metadata": {
    "execution": {
     "iopub.execute_input": "2023-07-30T12:43:16.640064Z",
     "iopub.status.busy": "2023-07-30T12:43:16.639387Z",
     "iopub.status.idle": "2023-07-30T12:43:16.653845Z",
     "shell.execute_reply": "2023-07-30T12:43:16.652740Z",
     "shell.execute_reply.started": "2023-07-30T12:43:16.640016Z"
    },
    "tags": []
   },
   "outputs": [],
   "source": [
    "# initialize empty history\n",
    "# (offline eval means you can only add to histroy when rec mathces historic data)\n",
    "history = pd.DataFrame(data=None, columns=df.columns)\n",
    "history = history.astype({'movieId': 'int32', 'liked': 'float'})"
   ]
  },
  {
   "cell_type": "code",
   "execution_count": 107,
   "id": "79a068cd-197d-418a-9884-aef3957f6f3e",
   "metadata": {
    "execution": {
     "iopub.execute_input": "2023-07-30T12:52:40.389802Z",
     "iopub.status.busy": "2023-07-30T12:52:40.389389Z",
     "iopub.status.idle": "2023-07-30T12:52:42.843170Z",
     "shell.execute_reply": "2023-07-30T12:52:42.842740Z",
     "shell.execute_reply.started": "2023-07-30T12:52:40.389777Z"
    },
    "tags": []
   },
   "outputs": [
    {
     "name": "stdout",
     "output_type": "stream",
     "text": [
      "0\n"
     ]
    }
   ],
   "source": [
    "# to speed this up, retrain the bandit every batch_size time steps\n",
    "# this lets us measure batch_size actions against a slate of recommendations rather than generating\n",
    "#      recs at each time step. this seems like the only way to make it through a large dataset like\n",
    "#      this and get a meaningful sample size with offline/replay evaluation\n",
    "\n",
    "rewards = []\n",
    "max_time = df.shape[0] # total number of ratings to evaluate using the bandit\n",
    "for t in range(max_time//batch_size):\n",
    "    t = t * batch_size\n",
    "    if t % 100000 == 0:\n",
    "        if verbose:\n",
    "            print(t)\n",
    "    # choose which arm to pull\n",
    "    # apply epsilon greedy policy to the historic dataset (all arm-pulls prior to the current step that passed the replay-filter)\n",
    "    recs = epsilon_greedy_policy(df=history.loc[history.t<=t,], arms=df.movieId.unique(), epsilon=epsilon, slate_size=slate_size, batch_size=batch_size)\n",
    "    history, action_score = score(history, df, t, batch_size, recs)\n",
    "    if action_score is not None:\n",
    "        action_score = action_score.liked.tolist()\n",
    "        rewards.extend(action_score)"
   ]
  },
  {
   "cell_type": "code",
   "execution_count": 112,
   "id": "babe6a93-e579-46e5-ba38-787ded56bdd0",
   "metadata": {
    "execution": {
     "iopub.execute_input": "2023-07-30T12:54:12.832214Z",
     "iopub.status.busy": "2023-07-30T12:54:12.830920Z",
     "iopub.status.idle": "2023-07-30T12:54:12.998906Z",
     "shell.execute_reply": "2023-07-30T12:54:12.998574Z",
     "shell.execute_reply.started": "2023-07-30T12:54:12.832156Z"
    },
    "tags": []
   },
   "outputs": [],
   "source": [
    "import matplotlib.pyplot as plt"
   ]
  },
  {
   "cell_type": "code",
   "execution_count": 116,
   "id": "c0744878-710c-4ca2-9c9c-2086d5bd6bf8",
   "metadata": {
    "execution": {
     "iopub.execute_input": "2023-07-30T12:54:50.687828Z",
     "iopub.status.busy": "2023-07-30T12:54:50.687013Z",
     "iopub.status.idle": "2023-07-30T12:54:50.786623Z",
     "shell.execute_reply": "2023-07-30T12:54:50.786287Z",
     "shell.execute_reply.started": "2023-07-30T12:54:50.687800Z"
    },
    "tags": []
   },
   "outputs": [
    {
     "data": {
      "text/plain": [
       "[<matplotlib.lines.Line2D at 0x15e7d3010>]"
      ]
     },
     "execution_count": 116,
     "metadata": {},
     "output_type": "execute_result"
    },
    {
     "data": {
      "image/png": "[encoded data removed]",
      "text/plain": [
       "<Figure size 640x480 with 1 Axes>"
      ]
     },
     "metadata": {},
     "output_type": "display_data"
    }
   ],
   "source": [
    "cumulative_avg = np.cumsum(rewards) / np.linspace(1, len(rewards), len(rewards))\n",
    "plt.plot(pd.Series(rewards).rolling(200).mean(), label='epsilon')\n",
    "plt.plot(cumulative_avg, label='epsilon')"
   ]
  }
 ],
 "metadata": {
  "kernelspec": {
   "display_name": "Python 3 (ipykernel)",
   "language": "python",
   "name": "python3"
  },
  "language_info": {
   "codemirror_mode": {
    "name": "ipython",
    "version": 3
   },
   "file_extension": ".py",
   "mimetype": "text/x-python",
   "name": "python",
   "nbconvert_exporter": "python",
   "pygments_lexer": "ipython3",
   "version": "3.10.10"
  }
 },
 "nbformat": 4,
 "nbformat_minor": 5
}
